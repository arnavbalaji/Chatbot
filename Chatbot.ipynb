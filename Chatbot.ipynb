{
  "cells": [
    {
      "cell_type": "code",
      "execution_count": null,
      "metadata": {
        "id": "2TWXQB0kSfaW"
      },
      "outputs": [],
      "source": [
        "!pip install torchtext==0.10.0 pydantic"
      ]
    },
    {
      "cell_type": "code",
      "execution_count": null,
      "metadata": {
        "id": "7cp9sq3aSfaY"
      },
      "outputs": [],
      "source": [
        "!pip install spacy"
      ]
    },
    {
      "cell_type": "code",
      "execution_count": null,
      "metadata": {
        "id": "lkswuXxySfaY"
      },
      "outputs": [],
      "source": [
        "!python -m spacy download en_core_web_sm"
      ]
    },
    {
      "cell_type": "code",
      "execution_count": 1,
      "metadata": {
        "id": "WCZTABdISfaZ"
      },
      "outputs": [],
      "source": [
        "import spacy\n",
        "import numpy as np\n",
        "import pandas as pd\n",
        "import torch\n",
        "import torch.nn as nn\n",
        "import torchtext\n",
        "from torch.utils.data import Dataset\n",
        "from torchtext.legacy.data import Iterator\n",
        "from torchtext.legacy.data import Example\n",
        "from torchtext.legacy.data import Field\n",
        "from torchtext.datasets import SQuAD2\n",
        "import random\n",
        "import string"
      ]
    },
    {
      "cell_type": "code",
      "execution_count": 2,
      "metadata": {
        "id": "favo0BkrSfaZ"
      },
      "outputs": [],
      "source": [
        "train_data, val_data = SQuAD2(split=('train', 'dev'))"
      ]
    },
    {
      "cell_type": "code",
      "execution_count": 3,
      "metadata": {
        "id": "DjqsQdZ0SfaZ"
      },
      "outputs": [],
      "source": [
        "train_dictionary = {\"Questions\" : [], \"Answers\": []}\n",
        "for _, q, a, _ in train_data:\n",
        "    train_dictionary[\"Questions\"].append(q)\n",
        "    train_dictionary[\"Answers\"].append(a[0])\n",
        "train_df = pd.DataFrame(train_dictionary)"
      ]
    },
    {
      "cell_type": "code",
      "execution_count": 4,
      "metadata": {
        "id": "klHuWP4sSfaa"
      },
      "outputs": [],
      "source": [
        "val_dictionary = {\"Questions\" : [], \"Answers\": []}\n",
        "for _, q, a, _ in val_data:\n",
        "    val_dictionary[\"Questions\"].append(q)\n",
        "    val_dictionary[\"Answers\"].append(a[0])\n",
        "val_df = pd.DataFrame(val_dictionary)"
      ]
    },
    {
      "cell_type": "code",
      "execution_count": 5,
      "metadata": {
        "colab": {
          "base_uri": "https://localhost:8080/",
          "height": 206
        },
        "id": "0u2JKVF4Sfaa",
        "outputId": "f28696d3-6a97-4898-e16d-f59640089019"
      },
      "outputs": [
        {
          "data": {
            "text/html": [
              "\n",
              "  <div id=\"df-0bdd89d2-a1a9-45ca-90c3-cc80f1e7749f\">\n",
              "    <div class=\"colab-df-container\">\n",
              "      <div>\n",
              "<style scoped>\n",
              "    .dataframe tbody tr th:only-of-type {\n",
              "        vertical-align: middle;\n",
              "    }\n",
              "\n",
              "    .dataframe tbody tr th {\n",
              "        vertical-align: top;\n",
              "    }\n",
              "\n",
              "    .dataframe thead th {\n",
              "        text-align: right;\n",
              "    }\n",
              "</style>\n",
              "<table border=\"1\" class=\"dataframe\">\n",
              "  <thead>\n",
              "    <tr style=\"text-align: right;\">\n",
              "      <th></th>\n",
              "      <th>Questions</th>\n",
              "      <th>Answers</th>\n",
              "    </tr>\n",
              "  </thead>\n",
              "  <tbody>\n",
              "    <tr>\n",
              "      <th>0</th>\n",
              "      <td>When did Beyonce start becoming popular?</td>\n",
              "      <td>in the late 1990s</td>\n",
              "    </tr>\n",
              "    <tr>\n",
              "      <th>1</th>\n",
              "      <td>What areas did Beyonce compete in when she was...</td>\n",
              "      <td>singing and dancing</td>\n",
              "    </tr>\n",
              "    <tr>\n",
              "      <th>2</th>\n",
              "      <td>When did Beyonce leave Destiny's Child and bec...</td>\n",
              "      <td>2003</td>\n",
              "    </tr>\n",
              "    <tr>\n",
              "      <th>3</th>\n",
              "      <td>In what city and state did Beyonce  grow up?</td>\n",
              "      <td>Houston, Texas</td>\n",
              "    </tr>\n",
              "    <tr>\n",
              "      <th>4</th>\n",
              "      <td>In which decade did Beyonce become famous?</td>\n",
              "      <td>late 1990s</td>\n",
              "    </tr>\n",
              "  </tbody>\n",
              "</table>\n",
              "</div>\n",
              "      <button class=\"colab-df-convert\" onclick=\"convertToInteractive('df-0bdd89d2-a1a9-45ca-90c3-cc80f1e7749f')\"\n",
              "              title=\"Convert this dataframe to an interactive table.\"\n",
              "              style=\"display:none;\">\n",
              "        \n",
              "  <svg xmlns=\"http://www.w3.org/2000/svg\" height=\"24px\"viewBox=\"0 0 24 24\"\n",
              "       width=\"24px\">\n",
              "    <path d=\"M0 0h24v24H0V0z\" fill=\"none\"/>\n",
              "    <path d=\"M18.56 5.44l.94 2.06.94-2.06 2.06-.94-2.06-.94-.94-2.06-.94 2.06-2.06.94zm-11 1L8.5 8.5l.94-2.06 2.06-.94-2.06-.94L8.5 2.5l-.94 2.06-2.06.94zm10 10l.94 2.06.94-2.06 2.06-.94-2.06-.94-.94-2.06-.94 2.06-2.06.94z\"/><path d=\"M17.41 7.96l-1.37-1.37c-.4-.4-.92-.59-1.43-.59-.52 0-1.04.2-1.43.59L10.3 9.45l-7.72 7.72c-.78.78-.78 2.05 0 2.83L4 21.41c.39.39.9.59 1.41.59.51 0 1.02-.2 1.41-.59l7.78-7.78 2.81-2.81c.8-.78.8-2.07 0-2.86zM5.41 20L4 18.59l7.72-7.72 1.47 1.35L5.41 20z\"/>\n",
              "  </svg>\n",
              "      </button>\n",
              "      \n",
              "  <style>\n",
              "    .colab-df-container {\n",
              "      display:flex;\n",
              "      flex-wrap:wrap;\n",
              "      gap: 12px;\n",
              "    }\n",
              "\n",
              "    .colab-df-convert {\n",
              "      background-color: #E8F0FE;\n",
              "      border: none;\n",
              "      border-radius: 50%;\n",
              "      cursor: pointer;\n",
              "      display: none;\n",
              "      fill: #1967D2;\n",
              "      height: 32px;\n",
              "      padding: 0 0 0 0;\n",
              "      width: 32px;\n",
              "    }\n",
              "\n",
              "    .colab-df-convert:hover {\n",
              "      background-color: #E2EBFA;\n",
              "      box-shadow: 0px 1px 2px rgba(60, 64, 67, 0.3), 0px 1px 3px 1px rgba(60, 64, 67, 0.15);\n",
              "      fill: #174EA6;\n",
              "    }\n",
              "\n",
              "    [theme=dark] .colab-df-convert {\n",
              "      background-color: #3B4455;\n",
              "      fill: #D2E3FC;\n",
              "    }\n",
              "\n",
              "    [theme=dark] .colab-df-convert:hover {\n",
              "      background-color: #434B5C;\n",
              "      box-shadow: 0px 1px 3px 1px rgba(0, 0, 0, 0.15);\n",
              "      filter: drop-shadow(0px 1px 2px rgba(0, 0, 0, 0.3));\n",
              "      fill: #FFFFFF;\n",
              "    }\n",
              "  </style>\n",
              "\n",
              "      <script>\n",
              "        const buttonEl =\n",
              "          document.querySelector('#df-0bdd89d2-a1a9-45ca-90c3-cc80f1e7749f button.colab-df-convert');\n",
              "        buttonEl.style.display =\n",
              "          google.colab.kernel.accessAllowed ? 'block' : 'none';\n",
              "\n",
              "        async function convertToInteractive(key) {\n",
              "          const element = document.querySelector('#df-0bdd89d2-a1a9-45ca-90c3-cc80f1e7749f');\n",
              "          const dataTable =\n",
              "            await google.colab.kernel.invokeFunction('convertToInteractive',\n",
              "                                                     [key], {});\n",
              "          if (!dataTable) return;\n",
              "\n",
              "          const docLinkHtml = 'Like what you see? Visit the ' +\n",
              "            '<a target=\"_blank\" href=https://colab.research.google.com/notebooks/data_table.ipynb>data table notebook</a>'\n",
              "            + ' to learn more about interactive tables.';\n",
              "          element.innerHTML = '';\n",
              "          dataTable['output_type'] = 'display_data';\n",
              "          await google.colab.output.renderOutput(dataTable, element);\n",
              "          const docLink = document.createElement('div');\n",
              "          docLink.innerHTML = docLinkHtml;\n",
              "          element.appendChild(docLink);\n",
              "        }\n",
              "      </script>\n",
              "    </div>\n",
              "  </div>\n",
              "  "
            ],
            "text/plain": [
              "                                           Questions              Answers\n",
              "0           When did Beyonce start becoming popular?    in the late 1990s\n",
              "1  What areas did Beyonce compete in when she was...  singing and dancing\n",
              "2  When did Beyonce leave Destiny's Child and bec...                 2003\n",
              "3      In what city and state did Beyonce  grow up?        Houston, Texas\n",
              "4         In which decade did Beyonce become famous?           late 1990s"
            ]
          },
          "execution_count": 5,
          "metadata": {},
          "output_type": "execute_result"
        }
      ],
      "source": [
        "train_df.head()"
      ]
    },
    {
      "cell_type": "code",
      "execution_count": 6,
      "metadata": {
        "colab": {
          "base_uri": "https://localhost:8080/",
          "height": 206
        },
        "id": "1rlA5WJ-Sfaa",
        "outputId": "e8a958d5-39bb-41a1-d731-0943324a0a63"
      },
      "outputs": [
        {
          "data": {
            "text/html": [
              "\n",
              "  <div id=\"df-8f40948c-2c32-4727-a169-b9c88696df2e\">\n",
              "    <div class=\"colab-df-container\">\n",
              "      <div>\n",
              "<style scoped>\n",
              "    .dataframe tbody tr th:only-of-type {\n",
              "        vertical-align: middle;\n",
              "    }\n",
              "\n",
              "    .dataframe tbody tr th {\n",
              "        vertical-align: top;\n",
              "    }\n",
              "\n",
              "    .dataframe thead th {\n",
              "        text-align: right;\n",
              "    }\n",
              "</style>\n",
              "<table border=\"1\" class=\"dataframe\">\n",
              "  <thead>\n",
              "    <tr style=\"text-align: right;\">\n",
              "      <th></th>\n",
              "      <th>Questions</th>\n",
              "      <th>Answers</th>\n",
              "    </tr>\n",
              "  </thead>\n",
              "  <tbody>\n",
              "    <tr>\n",
              "      <th>0</th>\n",
              "      <td>In what country is Normandy located?</td>\n",
              "      <td>France</td>\n",
              "    </tr>\n",
              "    <tr>\n",
              "      <th>1</th>\n",
              "      <td>When were the Normans in Normandy?</td>\n",
              "      <td>10th and 11th centuries</td>\n",
              "    </tr>\n",
              "    <tr>\n",
              "      <th>2</th>\n",
              "      <td>From which countries did the Norse originate?</td>\n",
              "      <td>Denmark, Iceland and Norway</td>\n",
              "    </tr>\n",
              "    <tr>\n",
              "      <th>3</th>\n",
              "      <td>Who was the Norse leader?</td>\n",
              "      <td>Rollo</td>\n",
              "    </tr>\n",
              "    <tr>\n",
              "      <th>4</th>\n",
              "      <td>What century did the Normans first gain their ...</td>\n",
              "      <td>10th century</td>\n",
              "    </tr>\n",
              "  </tbody>\n",
              "</table>\n",
              "</div>\n",
              "      <button class=\"colab-df-convert\" onclick=\"convertToInteractive('df-8f40948c-2c32-4727-a169-b9c88696df2e')\"\n",
              "              title=\"Convert this dataframe to an interactive table.\"\n",
              "              style=\"display:none;\">\n",
              "        \n",
              "  <svg xmlns=\"http://www.w3.org/2000/svg\" height=\"24px\"viewBox=\"0 0 24 24\"\n",
              "       width=\"24px\">\n",
              "    <path d=\"M0 0h24v24H0V0z\" fill=\"none\"/>\n",
              "    <path d=\"M18.56 5.44l.94 2.06.94-2.06 2.06-.94-2.06-.94-.94-2.06-.94 2.06-2.06.94zm-11 1L8.5 8.5l.94-2.06 2.06-.94-2.06-.94L8.5 2.5l-.94 2.06-2.06.94zm10 10l.94 2.06.94-2.06 2.06-.94-2.06-.94-.94-2.06-.94 2.06-2.06.94z\"/><path d=\"M17.41 7.96l-1.37-1.37c-.4-.4-.92-.59-1.43-.59-.52 0-1.04.2-1.43.59L10.3 9.45l-7.72 7.72c-.78.78-.78 2.05 0 2.83L4 21.41c.39.39.9.59 1.41.59.51 0 1.02-.2 1.41-.59l7.78-7.78 2.81-2.81c.8-.78.8-2.07 0-2.86zM5.41 20L4 18.59l7.72-7.72 1.47 1.35L5.41 20z\"/>\n",
              "  </svg>\n",
              "      </button>\n",
              "      \n",
              "  <style>\n",
              "    .colab-df-container {\n",
              "      display:flex;\n",
              "      flex-wrap:wrap;\n",
              "      gap: 12px;\n",
              "    }\n",
              "\n",
              "    .colab-df-convert {\n",
              "      background-color: #E8F0FE;\n",
              "      border: none;\n",
              "      border-radius: 50%;\n",
              "      cursor: pointer;\n",
              "      display: none;\n",
              "      fill: #1967D2;\n",
              "      height: 32px;\n",
              "      padding: 0 0 0 0;\n",
              "      width: 32px;\n",
              "    }\n",
              "\n",
              "    .colab-df-convert:hover {\n",
              "      background-color: #E2EBFA;\n",
              "      box-shadow: 0px 1px 2px rgba(60, 64, 67, 0.3), 0px 1px 3px 1px rgba(60, 64, 67, 0.15);\n",
              "      fill: #174EA6;\n",
              "    }\n",
              "\n",
              "    [theme=dark] .colab-df-convert {\n",
              "      background-color: #3B4455;\n",
              "      fill: #D2E3FC;\n",
              "    }\n",
              "\n",
              "    [theme=dark] .colab-df-convert:hover {\n",
              "      background-color: #434B5C;\n",
              "      box-shadow: 0px 1px 3px 1px rgba(0, 0, 0, 0.15);\n",
              "      filter: drop-shadow(0px 1px 2px rgba(0, 0, 0, 0.3));\n",
              "      fill: #FFFFFF;\n",
              "    }\n",
              "  </style>\n",
              "\n",
              "      <script>\n",
              "        const buttonEl =\n",
              "          document.querySelector('#df-8f40948c-2c32-4727-a169-b9c88696df2e button.colab-df-convert');\n",
              "        buttonEl.style.display =\n",
              "          google.colab.kernel.accessAllowed ? 'block' : 'none';\n",
              "\n",
              "        async function convertToInteractive(key) {\n",
              "          const element = document.querySelector('#df-8f40948c-2c32-4727-a169-b9c88696df2e');\n",
              "          const dataTable =\n",
              "            await google.colab.kernel.invokeFunction('convertToInteractive',\n",
              "                                                     [key], {});\n",
              "          if (!dataTable) return;\n",
              "\n",
              "          const docLinkHtml = 'Like what you see? Visit the ' +\n",
              "            '<a target=\"_blank\" href=https://colab.research.google.com/notebooks/data_table.ipynb>data table notebook</a>'\n",
              "            + ' to learn more about interactive tables.';\n",
              "          element.innerHTML = '';\n",
              "          dataTable['output_type'] = 'display_data';\n",
              "          await google.colab.output.renderOutput(dataTable, element);\n",
              "          const docLink = document.createElement('div');\n",
              "          docLink.innerHTML = docLinkHtml;\n",
              "          element.appendChild(docLink);\n",
              "        }\n",
              "      </script>\n",
              "    </div>\n",
              "  </div>\n",
              "  "
            ],
            "text/plain": [
              "                                           Questions  \\\n",
              "0               In what country is Normandy located?   \n",
              "1                 When were the Normans in Normandy?   \n",
              "2      From which countries did the Norse originate?   \n",
              "3                          Who was the Norse leader?   \n",
              "4  What century did the Normans first gain their ...   \n",
              "\n",
              "                       Answers  \n",
              "0                       France  \n",
              "1      10th and 11th centuries  \n",
              "2  Denmark, Iceland and Norway  \n",
              "3                        Rollo  \n",
              "4                 10th century  "
            ]
          },
          "execution_count": 6,
          "metadata": {},
          "output_type": "execute_result"
        }
      ],
      "source": [
        "val_df.head()"
      ]
    },
    {
      "cell_type": "code",
      "execution_count": 7,
      "metadata": {
        "id": "3p5c993ySfaa"
      },
      "outputs": [],
      "source": [
        "class Vocab:\n",
        "    def __init__(self):\n",
        "        self.word2index = {\"SOS\" : 0, \"EOS\": 1}\n",
        "        self.word2count = {}\n",
        "        self.index2word = {0: \"SOS\", 1: \"EOS\"}\n",
        "        self.n_words = 2  \n",
        "\n",
        "    def addSentence(self, sentence):\n",
        "        for word in sentence.split(' '):\n",
        "            self.addWord(word)\n",
        "\n",
        "    def addWord(self, word):\n",
        "        if word not in self.word2index:\n",
        "            self.word2index[word] = self.n_words\n",
        "            self.word2count[word] = 1\n",
        "            self.index2word[self.n_words] = word\n",
        "            self.n_words += 1\n",
        "        else:\n",
        "            self.word2count[word] += 1"
      ]
    },
    {
      "cell_type": "code",
      "execution_count": 8,
      "metadata": {
        "id": "YD2Q41bjSfab"
      },
      "outputs": [],
      "source": [
        "nlp = spacy.load('en_core_web_sm')\n",
        "\n",
        "def prepare_text(sentence):\n",
        "    sentence = ''.join([s.lower() for s in sentence if s not in string.punctuation])\n",
        "    tokens = ' '.join([token.text for token in nlp(sentence)])\n",
        "\n",
        "    return tokens\n",
        "\n",
        "def prepare_data(data_df):\n",
        "    data_df['Questions'] = data_df['Questions'].apply(prepare_text)\n",
        "    data_df['Answers'] = data_df['Answers'].apply(prepare_text)\n",
        "\n",
        "    return data_df"
      ]
    },
    {
      "cell_type": "code",
      "execution_count": 9,
      "metadata": {
        "colab": {
          "base_uri": "https://localhost:8080/"
        },
        "id": "By1HoAQNSfab",
        "outputId": "d7fca3da-add2-434c-f6eb-f107e5e429d8"
      },
      "outputs": [
        {
          "name": "stderr",
          "output_type": "stream",
          "text": [
            "<ipython-input-8-10a4e3c7965d>:10: SettingWithCopyWarning: \n",
            "A value is trying to be set on a copy of a slice from a DataFrame.\n",
            "Try using .loc[row_indexer,col_indexer] = value instead\n",
            "\n",
            "See the caveats in the documentation: https://pandas.pydata.org/pandas-docs/stable/user_guide/indexing.html#returning-a-view-versus-a-copy\n",
            "  data_df['Questions'] = data_df['Questions'].apply(prepare_text)\n",
            "<ipython-input-8-10a4e3c7965d>:11: SettingWithCopyWarning: \n",
            "A value is trying to be set on a copy of a slice from a DataFrame.\n",
            "Try using .loc[row_indexer,col_indexer] = value instead\n",
            "\n",
            "See the caveats in the documentation: https://pandas.pydata.org/pandas-docs/stable/user_guide/indexing.html#returning-a-view-versus-a-copy\n",
            "  data_df['Answers'] = data_df['Answers'].apply(prepare_text)\n"
          ]
        }
      ],
      "source": [
        "train_df = prepare_data(train_df.iloc[:100, :])"
      ]
    },
    {
      "cell_type": "code",
      "execution_count": 10,
      "metadata": {
        "id": "2xLGWk1ySfab"
      },
      "outputs": [],
      "source": [
        "def toTensor(vocab, sentence):\n",
        "    indices = [vocab.word2index[word] for word in sentence.split(' ')]\n",
        "    indices.append(vocab.word2index['EOS'])\n",
        "    return torch.Tensor(indices).long().to(device).view(-1, 1)\n",
        "\n",
        "def getPairs(df):\n",
        "    temp1 = df[\"Questions\"].apply(lambda x: \"\".join(x) ).to_list()\n",
        "    temp2 = df[\"Answers\"].apply(lambda x: \"\".join(x) ).to_list()\n",
        "    return [list(i) for i in zip(temp1, temp2)]\n",
        "\n",
        "def getMaxLen(pairs):\n",
        "    max_src = 0 \n",
        "    max_trg = 0\n",
        "    \n",
        "    for p in pairs:\n",
        "        max_src = len(p[0].split()) if len(p[0].split()) > max_src else max_src\n",
        "        max_trg = len(p[1].split()) if len(p[1].split()) > max_trg else max_trg\n",
        "        \n",
        "    return max_src, max_trg"
      ]
    },
    {
      "cell_type": "code",
      "execution_count": 11,
      "metadata": {
        "id": "U0JX9s0VSfab"
      },
      "outputs": [],
      "source": [
        "train_pairs = getPairs(train_df)"
      ]
    },
    {
      "cell_type": "code",
      "execution_count": 12,
      "metadata": {
        "colab": {
          "base_uri": "https://localhost:8080/"
        },
        "id": "OwDg_mYuSfac",
        "outputId": "ef5daf41-ca7e-4bfa-c70d-823ec0c0505f"
      },
      "outputs": [
        {
          "data": {
            "text/plain": [
              "[['when did beyonce start becoming popular', 'in the late 1990s'],\n",
              " ['what areas did beyonce compete in when she was growing up',\n",
              "  'singing and dancing'],\n",
              " ['when did beyonce leave destinys child and become a solo singer', '2003'],\n",
              " ['in what city and state did beyonce   grow up', 'houston texas'],\n",
              " ['in which decade did beyonce become famous', 'late 1990s']]"
            ]
          },
          "execution_count": 12,
          "metadata": {},
          "output_type": "execute_result"
        }
      ],
      "source": [
        "train_pairs[:5]"
      ]
    },
    {
      "cell_type": "code",
      "execution_count": 13,
      "metadata": {
        "id": "xOUvIneESfac"
      },
      "outputs": [],
      "source": [
        "Q_vocab = Vocab()\n",
        "A_vocab = Vocab()\n",
        "\n",
        "for pair in train_pairs:\n",
        "    Q_vocab.addSentence(pair[0])\n",
        "    A_vocab.addSentence(pair[1])"
      ]
    },
    {
      "cell_type": "code",
      "execution_count": 14,
      "metadata": {
        "id": "Hyxaqpv0Sfac"
      },
      "outputs": [],
      "source": [
        "device = torch.device('cuda' if torch.cuda.is_available() else 'cpu')"
      ]
    },
    {
      "cell_type": "code",
      "execution_count": 15,
      "metadata": {
        "id": "Pr_ZAoiKSfac"
      },
      "outputs": [],
      "source": [
        "source_data = [toTensor(Q_vocab, pair[0]) for pair in train_pairs]\n",
        "target_data = [toTensor(A_vocab, pair[1]) for pair in train_pairs]"
      ]
    },
    {
      "cell_type": "code",
      "execution_count": 16,
      "metadata": {
        "id": "RbogJ-DgSfac"
      },
      "outputs": [],
      "source": [
        "max_src, max_trg = getMaxLen(train_pairs)"
      ]
    },
    {
      "cell_type": "code",
      "execution_count": 17,
      "metadata": {
        "colab": {
          "base_uri": "https://localhost:8080/"
        },
        "id": "6RS_z6vXSfac",
        "outputId": "7a27d50e-895f-44bf-9228-13569d56f6cc"
      },
      "outputs": [
        {
          "data": {
            "text/plain": [
              "tensor([[2],\n",
              "        [3],\n",
              "        [4],\n",
              "        [5],\n",
              "        [6],\n",
              "        [7],\n",
              "        [1]], device='cuda:0')"
            ]
          },
          "execution_count": 17,
          "metadata": {},
          "output_type": "execute_result"
        }
      ],
      "source": [
        "source_data[0]"
      ]
    },
    {
      "cell_type": "code",
      "execution_count": 18,
      "metadata": {
        "colab": {
          "base_uri": "https://localhost:8080/"
        },
        "id": "L3ta8yF2TnDo",
        "outputId": "3303558a-6a33-4e97-a2ae-21a1366a4acf"
      },
      "outputs": [
        {
          "data": {
            "text/plain": [
              "tensor([[2],\n",
              "        [3],\n",
              "        [4],\n",
              "        [5],\n",
              "        [1]], device='cuda:0')"
            ]
          },
          "execution_count": 18,
          "metadata": {},
          "output_type": "execute_result"
        }
      ],
      "source": [
        "target_data[0]"
      ]
    },
    {
      "cell_type": "code",
      "execution_count": 19,
      "metadata": {
        "colab": {
          "base_uri": "https://localhost:8080/"
        },
        "id": "lGw1HqWPSfac",
        "outputId": "1c80f4bb-b54c-46b4-e839-78863ebda55b"
      },
      "outputs": [
        {
          "data": {
            "text/plain": [
              "298"
            ]
          },
          "execution_count": 19,
          "metadata": {},
          "output_type": "execute_result"
        }
      ],
      "source": [
        "Q_vocab.n_words"
      ]
    },
    {
      "cell_type": "code",
      "execution_count": 20,
      "metadata": {
        "id": "fdgzvPRTUPbt"
      },
      "outputs": [],
      "source": [
        "def evaluate(tensor, model):\n",
        "    model.eval()\n",
        "    outputs = model(tensor)\n",
        "    output_text = [A_vocab.index2word[idx] for idx in outputs]\n",
        "    output_sentence = ' '.join(output_text)\n",
        "    return output_sentence, outputs"
      ]
    },
    {
      "cell_type": "code",
      "execution_count": 21,
      "metadata": {
        "id": "-0V3Y6TVSfac"
      },
      "outputs": [],
      "source": [
        "import torch.nn as nn\n",
        "\n",
        "class Encoder(nn.Module):\n",
        "    def __init__(self, input_dim, emb_dim, num_layers, dropout=0.2):\n",
        "        super().__init__()\n",
        "\n",
        "        self.input_dim = input_dim\n",
        "        self.emb_dim = emb_dim\n",
        "        self.num_layers = num_layers\n",
        "        self.dropout_prob = dropout\n",
        "\n",
        "        self.embedding = nn.Embedding(input_dim, emb_dim)\n",
        "        self.lstm = nn.LSTM(self.emb_dim, self.emb_dim, self.num_layers, dropout=self.dropout_prob, bidirectional=True)\n",
        "        self.dropout_layer = nn.Dropout(self.dropout_prob)\n",
        "    \n",
        "    def init_hidden(self, batch_size):\n",
        "        hidden = torch.zeros(self.num_layers*2, batch_size, self.emb_dim).to(device)\n",
        "        cell = torch.zeros(self.num_layers*2, batch_size, self.emb_dim).to(device)\n",
        "        return hidden, cell\n",
        "\n",
        "    def forward(self, x, hidden, cell):\n",
        "        x = x.unsqueeze(0)\n",
        "        x = self.dropout_layer(self.embedding(x))\n",
        "        x, (hidden, cell) = self.lstm(x, (hidden, cell))\n",
        "        return x, hidden, cell\n",
        "    \n",
        "class Decoder(nn.Module):\n",
        "    def __init__(self, output_dim, hidden_dim, num_layers, dropout=0.2):\n",
        "        super().__init__()\n",
        "\n",
        "        self.output_dim = output_dim\n",
        "        self.hidden_dim = hidden_dim\n",
        "        self.num_layers = num_layers\n",
        "        self.dropout_prob = dropout\n",
        "\n",
        "        self.embedding = nn.Embedding(output_dim, hidden_dim)\n",
        "        self.lstm = nn.LSTM(self.hidden_dim, self.hidden_dim, self.num_layers, dropout=self.dropout_prob, bidirectional=True)\n",
        "        self.fc = nn.Linear(self.hidden_dim*2, self.output_dim)\n",
        "        self.dropout_layer = nn.Dropout(self.dropout_prob)\n",
        "        \n",
        "    def forward(self, x, hidden, cell):\n",
        "        x = self.dropout_layer(self.embedding(x))\n",
        "        x, (hidden, cell) = self.lstm(x, (hidden, cell))\n",
        "        x = self.dropout_layer(self.fc(x.squeeze(0)))\n",
        "        return x, hidden, cell\n",
        "\n",
        "class Seq2Seq(nn.Module):\n",
        "    def __init__(self, input_dim, output_dim, hidden_dim, num_layers=2, dropout=0.2):\n",
        "        super().__init__()\n",
        "        self.input_dim = input_dim\n",
        "        self.output_dim = output_dim\n",
        "        self.hidden_dim = hidden_dim\n",
        "        self.num_layers = num_layers\n",
        "        self.dropout_prob = dropout\n",
        "\n",
        "        self.encoder = Encoder(self.input_dim, self.hidden_dim, self.num_layers, self.dropout_prob).to(device)\n",
        "        self.decoder = Decoder(self.output_dim, self.hidden_dim, self.num_layers, self.dropout_prob).to(device)\n",
        "\n",
        "\n",
        "    def forward(self, src, trg=None, teacher_forcing_ratio=0.5):\n",
        "        self.batch_size = src.shape[1]\n",
        "        self.trg_vocab_size = self.output_dim\n",
        "        if (trg != None):\n",
        "          self.trg_len = trg.shape[0]\n",
        "\n",
        "          outputs = torch.zeros(self.trg_len, self.batch_size, self.trg_vocab_size).to(device)\n",
        "\n",
        "          hidden, cell = self.encoder.init_hidden(self.batch_size)\n",
        "        \n",
        "          for i in range(src.shape[0]):\n",
        "              _, hidden, cell = self.encoder(src[i], hidden, cell)\n",
        "            \n",
        "          x = torch.zeros(1, self.batch_size, dtype=torch.long, device=device)\n",
        "        \n",
        "          for t in range(1, self.trg_len):\n",
        "              output, hidden, cell = self.decoder(x, hidden, cell)\n",
        "              outputs[t] = output\n",
        "              best_guess = output.argmax(1)\n",
        "              x = trg[t].unsqueeze(0) if random.random() < teacher_forcing_ratio else best_guess.unsqueeze(0)\n",
        "        \n",
        "          return outputs\n",
        "\n",
        "        else:\n",
        "          outputs = []\n",
        "          hidden, cell = model.encoder.init_hidden(self.batch_size)\n",
        "\n",
        "          for i in range(src.shape[0]):\n",
        "            _, hidden, cell = self.encoder(src[i], hidden, cell)\n",
        "          \n",
        "          x = torch.zeros(1, self.batch_size, dtype=torch.long, device=device)\n",
        "\n",
        "          counts = 0\n",
        "          while x != A_vocab.word2index[\"EOS\"] and counts < max_trg + 20:\n",
        "            output, hidden, cell = model.decoder(x, hidden, cell)\n",
        "            best_guess = output.argmax(1)\n",
        "            outputs.append(best_guess.item())\n",
        "            x = best_guess.unsqueeze(0)\n",
        "            counts += 1\n",
        "          \n",
        "          return outputs\n"
      ]
    },
    {
      "cell_type": "code",
      "execution_count": 22,
      "metadata": {
        "id": "s8q6y3hvSfad"
      },
      "outputs": [],
      "source": [
        "input_dim = Q_vocab.n_words\n",
        "output_dim = A_vocab.n_words\n",
        "trg_vocab_size = A_vocab.n_words\n",
        "hidden_dim = 512\n",
        "dropout = 0.5\n",
        "batch_size = 16"
      ]
    },
    {
      "cell_type": "code",
      "execution_count": 23,
      "metadata": {
        "colab": {
          "base_uri": "https://localhost:8080/"
        },
        "id": "FfFJCcLsSfad",
        "outputId": "edc69101-994d-4fa6-a478-1ff6a3a202f0"
      },
      "outputs": [
        {
          "data": {
            "text/plain": [
              "122"
            ]
          },
          "execution_count": 23,
          "metadata": {},
          "output_type": "execute_result"
        }
      ],
      "source": [
        "output_dim"
      ]
    },
    {
      "cell_type": "code",
      "execution_count": 24,
      "metadata": {
        "colab": {
          "base_uri": "https://localhost:8080/"
        },
        "id": "fdQ0OxSOSfad",
        "outputId": "6f25f291-4983-4acd-8ec1-989cc741aba6"
      },
      "outputs": [
        {
          "data": {
            "text/plain": [
              "<torch.autograd.anomaly_mode.set_detect_anomaly at 0x7fec23dfb310>"
            ]
          },
          "execution_count": 24,
          "metadata": {},
          "output_type": "execute_result"
        }
      ],
      "source": [
        "torch.autograd.set_detect_anomaly(True)"
      ]
    },
    {
      "cell_type": "code",
      "execution_count": 25,
      "metadata": {
        "id": "tgbATJD6Sfad"
      },
      "outputs": [],
      "source": [
        "model = Seq2Seq(input_dim, output_dim, hidden_dim, 2, dropout).to(device)"
      ]
    },
    {
      "cell_type": "code",
      "execution_count": 26,
      "metadata": {
        "id": "U14b14rrSfad"
      },
      "outputs": [],
      "source": [
        "learning_rate = 0.01\n",
        "optimizer = torch.optim.Adam(model.parameters(), lr=learning_rate)\n",
        "criterion = nn.CrossEntropyLoss()"
      ]
    },
    {
      "cell_type": "code",
      "execution_count": 27,
      "metadata": {
        "id": "yONJpAAvU7DM"
      },
      "outputs": [],
      "source": [
        "sentence, output_tensor = evaluate(source_data[0], model)"
      ]
    },
    {
      "cell_type": "code",
      "execution_count": 28,
      "metadata": {
        "colab": {
          "base_uri": "https://localhost:8080/"
        },
        "id": "Q-GYhSW9U_Sl",
        "outputId": "d3f6a6d9-8bf6-4b32-8ee7-d65a5f504053"
      },
      "outputs": [
        {
          "name": "stdout",
          "output_type": "stream",
          "text": [
            "forbes name name name no no no forbes name name men name name no no lead no june no june no forbes forbes forbes dreamgirls\n",
            "[38, 51, 51, 51, 101, 101, 101, 38, 51, 51, 91, 51, 51, 101, 101, 18, 101, 30, 101, 30, 101, 38, 38, 38, 25]\n"
          ]
        }
      ],
      "source": [
        "print(sentence)\n",
        "print(output_tensor)"
      ]
    },
    {
      "cell_type": "code",
      "execution_count": 29,
      "metadata": {
        "colab": {
          "base_uri": "https://localhost:8080/"
        },
        "id": "E64-b1sLSfad",
        "outputId": "0a8b28f1-55f8-4f77-9e13-5b2a02730b9e"
      },
      "outputs": [
        {
          "name": "stdout",
          "output_type": "stream",
          "text": [
            "Epoch 1/10 | Training Loss: 4.674\n",
            "[94, 1]\n",
            "my EOS\n",
            "\n",
            "\n",
            "\n",
            "\n",
            "Epoch 2/10 | Training Loss: 3.723\n",
            "[1]\n",
            "EOS\n",
            "\n",
            "\n",
            "\n",
            "\n",
            "Epoch 3/10 | Training Loss: 3.484\n",
            "[1]\n",
            "EOS\n",
            "\n",
            "\n",
            "\n",
            "\n",
            "Epoch 4/10 | Training Loss: 3.545\n",
            "[1]\n",
            "EOS\n",
            "\n",
            "\n",
            "\n",
            "\n",
            "Epoch 5/10 | Training Loss: 3.595\n",
            "[1]\n",
            "EOS\n",
            "\n",
            "\n",
            "\n",
            "\n",
            "Epoch 6/10 | Training Loss: 3.335\n",
            "[1]\n",
            "EOS\n",
            "\n",
            "\n",
            "\n",
            "\n",
            "Epoch 7/10 | Training Loss: 3.238\n",
            "[1]\n",
            "EOS\n",
            "\n",
            "\n",
            "\n",
            "\n",
            "Epoch 8/10 | Training Loss: 3.236\n",
            "[1]\n",
            "EOS\n",
            "\n",
            "\n",
            "\n",
            "\n",
            "Epoch 9/10 | Training Loss: 3.186\n",
            "[1]\n",
            "EOS\n",
            "\n",
            "\n",
            "\n",
            "\n",
            "Epoch 10/10 | Training Loss: 3.249\n",
            "[1]\n",
            "EOS\n",
            "\n",
            "\n",
            "\n",
            "\n"
          ]
        }
      ],
      "source": [
        "num_epochs = 10\n",
        "total = 0\n",
        "loss = 0\n",
        "for epoch in range(num_epochs):\n",
        "    model.train()\n",
        "    loss = 0\n",
        "    for i in range(len(source_data)):\n",
        "        src = source_data[i].to(device)\n",
        "        trg = target_data[i].to(device)\n",
        "        output = model(src, trg)\n",
        "        output_dim = output.shape[-1]\n",
        "        output = output[1:].view(-1, output_dim)\n",
        "        trg = trg[1:].view(-1)\n",
        "        current = criterion(output, trg)\n",
        "        loss += current\n",
        "        total += current\n",
        "        if (i + 1) % batch_size == 0 or i == (len(source_data)-1):\n",
        "            loss.backward()\n",
        "            optimizer.step()\n",
        "            optimizer.zero_grad()\n",
        "            loss = 0\n",
        "            \n",
        "    print_loss = total / len(source_data)\n",
        "    print(f\"Epoch {epoch + 1}/{num_epochs} | Training Loss: {print_loss:.3f}\")\n",
        "    total = 0\n",
        "    if (epoch + 1) % 5 == 0:\n",
        "      learning_rate = learning_rate / 10\n",
        "      optimizer = torch.optim.Adam(model.parameters(), lr=learning_rate)\n",
        "\n",
        "    model.eval()\n",
        "    sentence, output_tensor = evaluate(source_data[0], model)\n",
        "    print(output_tensor)\n",
        "    print(sentence)\n",
        "    print(\"\\n\\n\\n\")\n",
        "\n",
        "        \n"
      ]
    },
    {
      "cell_type": "code",
      "execution_count": null,
      "metadata": {
        "id": "LEtfpU4FSfad"
      },
      "outputs": [],
      "source": []
    }
  ],
  "metadata": {
    "accelerator": "GPU",
    "colab": {
      "provenance": []
    },
    "gpuClass": "standard",
    "kernelspec": {
      "display_name": "Python 3.11.3 64-bit",
      "language": "python",
      "name": "python3"
    },
    "language_info": {
      "codemirror_mode": {
        "name": "ipython",
        "version": 3
      },
      "file_extension": ".py",
      "mimetype": "text/x-python",
      "name": "python",
      "nbconvert_exporter": "python",
      "pygments_lexer": "ipython3",
      "version": "3.11.3"
    },
    "vscode": {
      "interpreter": {
        "hash": "aee8b7b246df8f9039afb4144a1f6fd8d2ca17a180786b69acc140d282b71a49"
      }
    }
  },
  "nbformat": 4,
  "nbformat_minor": 0
}
